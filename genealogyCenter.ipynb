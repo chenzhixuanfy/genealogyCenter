{
 "cells": [
  {
   "cell_type": "code",
   "execution_count": 8,
   "metadata": {},
   "outputs": [],
   "source": [
    "import requests"
   ]
  },
  {
   "cell_type": "code",
   "execution_count": 9,
   "metadata": {},
   "outputs": [],
   "source": [
    "headers = {\n",
    "            \"User-Agent\": \"Mozilla/5.0 (Windows NT 10.0; Win64; x64) AppleWebKit/537.36 (KHTML, like Gecko) Chrome/111.0.0.0 Safari/537.36\",\n",
    "            \"Cookie\": \"INME3h9LhrxBO=5eoUp9XIHKk9BzyFc4ulMZoiTei0yWC4atqqn6NqbLNVbFCbOaNDe8mqedzvcfck9wqnUJYTbu5Iu3IDzanczIa; Hm_lvt_dffcb95e39ff33a82a9a2576f096f92b=1712493166; Hm_lpvt_dffcb95e39ff33a82a9a2576f096f92b=1712493507; enable_INME3h9LhrxB=true; INME3h9LhrxBP=9FLoZ9HDYuCanZkl2BQWna8zhSzVCcAd8aMsmtumvw4UsdTG2iy5IFmPvorBeS_l7hu_PkMDYw38drbIonbqOcO7YtAsNGKVUCgBiZIoCeqh4GH8w2U5hRXzMVQVzHCbXqIxCGv13bvsQR25JzJqoVLGgbfQEPvD16pSivVkW6jJevj9leOduW58Z.YsDpJeTZ9064yzoZIjOh1.luR3TTLzHj7.3XdTMV7GCjGBbWE9qjiDaU7MfQFjZTREcL8_PSp0By76BKHuElalHHDBd1uIjnGSDtSdmGayaSoOEDTvR6y_oxRid_QsW0o8jWWi7Zs_m9Y1mNtZJ1.CAqxySPKV21cGIz8b68a27L19TsQ\"\n",
    "        }\n",
    "URLregion = \"https://jiapu.library.sh.cn/region.json?J2tRwhR8=0pdhyAlqEl9NwonZXbxFe.9DjB0zSkGoOacAMXKDuAEhyCDgwcKaEDmM2EHcjDQJRdIC2NujoS9b7BcA2e6GlZlNz3orAWSS\"\n",
    "URLcity = \"https://dhapi.library.sh.cn/es/jp/webapi/work/getWorkFacetList?place={city}\""
   ]
  },
  {
   "cell_type": "markdown",
   "metadata": {},
   "source": [
    "获取区域列表"
   ]
  },
  {
   "cell_type": "code",
   "execution_count": 10,
   "metadata": {},
   "outputs": [],
   "source": [
    "response = requests.get(URLregion, headers)\n",
    "region_data = response.json()"
   ]
  },
  {
   "cell_type": "markdown",
   "metadata": {},
   "source": [
    "提取地级市名称"
   ]
  },
  {
   "cell_type": "code",
   "execution_count": null,
   "metadata": {},
   "outputs": [],
   "source": [
    "cities = []\n",
    "for province in region_data:\n",
    "    for city in province['children']:\n",
    "        # print(city)\n",
    "        cities.append(city['name'])"
   ]
  },
  {
   "cell_type": "code",
   "execution_count": null,
   "metadata": {},
   "outputs": [],
   "source": [
    "city_count = {}\n",
    "n = len(cities)\n",
    "i = 1\n",
    "for city in cities:\n",
    "    response = requests.get(URLcity.format(city=city), headers=headers) # 按照地级市名称来检索\n",
    "    json_data = response.json()\n",
    "    print(f\"i = {i}/{n}\")\n",
    "    try:\n",
    "        count = json_data['data'][0]['facets'][0]['count']\n",
    "        city_count[city] = count # 存入字典\n",
    "    except Exception: # 没有数据的城市\n",
    "        print(city)\n",
    "    i += 1"
   ]
  },
  {
   "cell_type": "markdown",
   "metadata": {},
   "source": [
    "以下测试划定年份范围"
   ]
  },
  {
   "cell_type": "code",
   "execution_count": 21,
   "metadata": {},
   "outputs": [],
   "source": [
    "URLcity = \"https://dhapi.library.sh.cn/es/jp/webapi/work/getWorkFacetList?place=北京&beginYear=2006&endYear=2006\"\n",
    "response = requests.get(URLcity, headers=headers)"
   ]
  },
  {
   "cell_type": "code",
   "execution_count": 22,
   "metadata": {},
   "outputs": [
    {
     "name": "stdout",
     "output_type": "stream",
     "text": [
      "{'data': [{'facetType': '1', 'facetsOther': [{'count': '0', 'placeUri': '其他', 'place': '其他'}], 'facets': [{'count': '2', 'placeUri': '北京市,,', 'place': '北京市', 'subPlaceFacets': [{'count': '2', 'placeUri': '北京市,北京市,', 'place': '北京市', 'subPlaceFacets': [{'count': '1', 'placeUri': '北京市,北京市,平谷区', 'place': '平谷区', 'subPlaceFacets': []}]}]}]}, {'facetType': '2', 'facetsOther': [{'tangh': '其他', 'count': '2', 'tanghUri': '其他'}], 'facets': []}, {'facetType': '3', 'facetsOther': [{'count': '0', 'temporalUri': '其他', 'temporal': '其他'}], 'facets': [{'count': '2', 'sort': 6, 'temporalUri': '当代', 'temporal': '当代'}]}, {'facetType': '4', 'facetsOther': [{'editionUri': '其他', 'count': '0', 'edition': '其他'}], 'facets': [{'editionUri': '复印本', 'count': '1', 'edition': '复印本'}, {'editionUri': '排印本', 'count': '1', 'edition': '排印本'}]}, {'facetType': '5', 'facetsOther': [{'org': '其他', 'count': '0', 'orgUri': '其他'}], 'facets': [{'org': '上海图书馆', 'count': '1', 'orgUri': '上海图书馆'}, {'org': '江苏时光信息科技有限公司', 'count': '1', 'orgUri': '江苏时光信息科技有限公司'}, {'org': '美国犹他家谱学会', 'count': '1', 'orgUri': '美国犹他家谱学会'}]}, {'facetType': '6', 'facetsOther': '', 'facets': [{'acc': '-1', 'count': '2', 'accUri': '-1'}]}, {'facetType': '7', 'facetsOther': [{'fnameUri': '其他', 'fname': '其他', 'count': '0'}], 'facets': [{'fnameUri': '余', 'fname': '余', 'count': '1'}, {'fnameUri': '柴', 'fname': '柴', 'count': '1'}]}], 'errorMessage': '', 'errorCode': '0'}\n"
     ]
    }
   ],
   "source": [
    "json_data = response.json()\n",
    "print(json_data)"
   ]
  },
  {
   "cell_type": "code",
   "execution_count": null,
   "metadata": {},
   "outputs": [],
   "source": []
  }
 ],
 "metadata": {
  "kernelspec": {
   "display_name": "d2l",
   "language": "python",
   "name": "python3"
  },
  "language_info": {
   "codemirror_mode": {
    "name": "ipython",
    "version": 3
   },
   "file_extension": ".py",
   "mimetype": "text/x-python",
   "name": "python",
   "nbconvert_exporter": "python",
   "pygments_lexer": "ipython3",
   "version": "3.9.18"
  }
 },
 "nbformat": 4,
 "nbformat_minor": 2
}
